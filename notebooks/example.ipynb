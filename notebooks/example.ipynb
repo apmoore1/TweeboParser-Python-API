{
 "cells": [
  {
   "cell_type": "code",
   "execution_count": 1,
   "metadata": {},
   "outputs": [],
   "source": [
    "from nltk.parse.dependencygraph import DependencyGraph\n",
    "from tweebo_parser import API, ServerError"
   ]
  },
  {
   "cell_type": "code",
   "execution_count": 2,
   "metadata": {},
   "outputs": [],
   "source": [
    "def add_root_node(list_conll_sentences):\n",
    "    '''\n",
    "    This adds the ROOT relation to CoNLL formatted data.\n",
    "    '''\n",
    "    temp_list_conll_sentences = []\n",
    "    for conll_sentences in list_conll_sentences:\n",
    "        temp_conll_sentences = []\n",
    "        for sentence in conll_sentences.split('\\n'):\n",
    "            sentence = sentence.split('\\t')\n",
    "            if int(sentence[6]) == 0:\n",
    "                sentence[7] = 'ROOT'\n",
    "            temp_conll_sentences.append('\\t'.join(sentence))\n",
    "        conll_sentences = '\\n'.join(temp_conll_sentences)\n",
    "        temp_list_conll_sentences.append(conll_sentences)\n",
    "    return temp_list_conll_sentences"
   ]
  },
  {
   "cell_type": "markdown",
   "metadata": {},
   "source": [
    "# How to use the API\n",
    "\n",
    "In this notebook we will show how to use the API and show the similarites of it compared to the Stanford CoreNLP python API that can be found [here](https://github.com/Lynten/stanford-corenlp).\n",
    "\n",
    "In this notebook we will show:\n",
    "* how to connect to the API server and process sentences into two formats:\n",
    "  1. [CoNLL](http://universaldependencies.org/docs/format.html)\n",
    "  2. Stanford styled -- at the same time compare it to the Stanford CoreNLP output.\n",
    "* We will then show errors that can occur and why.\n",
    "* How to process more sentences quicker using a multiprocessing pool.\n",
    "\n",
    "## Install\n",
    "\n",
    "Requires:\n",
    "1. nltk\n",
    "2. [graphviz](http://graphviz.org/)\n",
    "\n",
    "## Connect to the server\n",
    "\n",
    "First we connect to the server using the default setting which are:\n",
    "1. hostname = '0.0.0.0'\n",
    "2. port = 8000\n",
    "3. threads = number of CPU's on the host machine"
   ]
  },
  {
   "cell_type": "code",
   "execution_count": 3,
   "metadata": {},
   "outputs": [],
   "source": [
    "tweebo_api = API()"
   ]
  },
  {
   "cell_type": "code",
   "execution_count": 4,
   "metadata": {},
   "outputs": [],
   "source": [
    "text_data = ['Guangdong University of Foreign Studies is located in Guangzhou.', \n",
    "             'Lucy is in the sky with diamonds.']"
   ]
  },
  {
   "cell_type": "markdown",
   "metadata": {},
   "source": [
    "## Possible connection error"
   ]
  },
  {
   "cell_type": "code",
   "execution_count": 27,
   "metadata": {},
   "outputs": [
    {
     "name": "stdout",
     "output_type": "stream",
     "text": [
      "(ConnectionError(MaxRetryError(\"HTTPConnectionPool(host='0.0.0.0', port=8000): Max retries exceeded with url: / (Caused by NewConnectionError('<urllib3.connection.HTTPConnection object at 0x7fd794053b70>: Failed to establish a new connection: [Errno 111] Connection refused',))\",),), '0.0.0.0', 8000)\n",
      "Error caused by Connection Error. This is most likely due to the server not running at 0.0.0.0:8000\n"
     ]
    }
   ],
   "source": [
    "try:\n",
    "    result = tweebo_api.parse_stanford(text_data)\n",
    "except ServerError as e:\n",
    "    print(f'{e}\\n{e.message}')"
   ]
  },
  {
   "cell_type": "markdown",
   "metadata": {},
   "source": [
    "As we can see above when we run the code when the server is not running or running at a different hostname and port we get a server error, therefore this is telling me to correctly run the docker TweeboParser API server.\n",
    "\n",
    "## Processing sentences and returning CoNLL data\n",
    "\n",
    "Now I have corrected that mistake we can process the sentence:"
   ]
  },
  {
   "cell_type": "code",
   "execution_count": 5,
   "metadata": {},
   "outputs": [
    {
     "name": "stdout",
     "output_type": "stream",
     "text": [
      "['1\\tGuangdong\\t_\\t^\\t^\\t_\\t2\\t_\\t_\\t_\\n2\\tUniversity\\t_\\tN\\tN\\t_\\t6\\t_\\t_\\t_\\n3\\tof\\t_\\tP\\tP\\t_\\t2\\t_\\t_\\t_\\n4\\tForeign\\t_\\t^\\t^\\t_\\t5\\t_\\t_\\t_\\n5\\tStudies\\t_\\tN\\tN\\t_\\t3\\t_\\t_\\t_\\n6\\tis\\t_\\tV\\tV\\t_\\t0\\t_\\t_\\t_\\n7\\tlocated\\t_\\tV\\tV\\t_\\t6\\t_\\t_\\t_\\n8\\tin\\t_\\tP\\tP\\t_\\t7\\t_\\t_\\t_\\n9\\tGuangzhou\\t_\\t^\\t^\\t_\\t8\\t_\\t_\\t_\\n10\\t.\\t_\\t,\\t,\\t_\\t-1\\t_\\t_\\t_', '1\\tLucy\\t_\\t^\\t^\\t_\\t2\\t_\\t_\\t_\\n2\\tis\\t_\\tV\\tV\\t_\\t0\\t_\\t_\\t_\\n3\\tin\\t_\\tP\\tP\\t_\\t2\\t_\\t_\\t_\\n4\\tthe\\t_\\tD\\tD\\t_\\t5\\t_\\t_\\t_\\n5\\tsky\\t_\\tN\\tN\\t_\\t3\\t_\\t_\\t_\\n6\\twith\\t_\\tP\\tP\\t_\\t5\\t_\\t_\\t_\\n7\\tdiamonds\\t_\\tN\\tN\\t_\\t6\\t_\\t_\\t_\\n8\\t.\\t_\\t,\\t,\\t_\\t-1\\t_\\t_\\t_']\n"
     ]
    }
   ],
   "source": [
    "result = tweebo_api.parse_conll(text_data)\n",
    "print(f'{result}')"
   ]
  },
  {
   "cell_type": "markdown",
   "metadata": {},
   "source": [
    "The result of processing the sentences is a List containing the two Strings which are the sentences processed into CoNLL formated Strings.\n",
    "\n",
    "\n",
    "### CoNLL and NLTK\n",
    "As the Strings are CoNLL formatted we can analysis them using tools like NLTK as shown below, however the NLTK requires the relation of ROOT in the CoNLL strings but by default ours do not but we can infer them as the Strings that have the HEAD value equal to zero. To get these root relations we can use the function: \n",
    "\n",
    "`add_root_node`"
   ]
  },
  {
   "cell_type": "code",
   "execution_count": 13,
   "metadata": {},
   "outputs": [],
   "source": [
    "nltk_result = add_root_node(result)\n",
    "nltk_dep_tree = DependencyGraph(nltk_result[0])"
   ]
  },
  {
   "cell_type": "markdown",
   "metadata": {},
   "source": [
    "We can use a number but not all of the NLTK DependencyGraph functions. The ones we cannot are due to not having a complete [relation values](http://universaldependencies.org/docs/u/dep/index.html) e.g. subj"
   ]
  },
  {
   "cell_type": "code",
   "execution_count": 16,
   "metadata": {},
   "outputs": [
    {
     "data": {
      "image/png": "[encoded data removed]",
      "text/plain": [
       "Tree('is', [Tree('University', ['Guangdong', Tree('of', [Tree('Studies', ['Foreign'])])]), Tree('located', [Tree('in', ['Guangzhou'])])])"
      ]
     },
     "execution_count": 16,
     "metadata": {},
     "output_type": "execute_result"
    }
   ],
   "source": [
    "nltk_dep_tree.tree()"
   ]
  },
  {
   "cell_type": "code",
   "execution_count": 17,
   "metadata": {},
   "outputs": [
    {
     "data": {
      "text/plain": [
       "{'address': 0,\n",
       " 'word': None,\n",
       " 'lemma': None,\n",
       " 'ctag': 'TOP',\n",
       " 'tag': 'TOP',\n",
       " 'feats': None,\n",
       " 'head': None,\n",
       " 'deps': defaultdict(list, {'ROOT': [6]}),\n",
       " 'rel': None}"
      ]
     },
     "execution_count": 17,
     "metadata": {},
     "output_type": "execute_result"
    }
   ],
   "source": [
    "nltk_dep_tree.nodes[0]"
   ]
  },
  {
   "cell_type": "code",
   "execution_count": 18,
   "metadata": {},
   "outputs": [
    {
     "name": "stdout",
     "output_type": "stream",
     "text": [
      "(('is', 'V'), '_', ('University', 'N'))\n",
      "(('University', 'N'), '_', ('Guangdong', '^'))\n",
      "(('University', 'N'), '_', ('of', 'P'))\n",
      "(('of', 'P'), '_', ('Studies', 'N'))\n",
      "(('Studies', 'N'), '_', ('Foreign', '^'))\n",
      "(('is', 'V'), '_', ('located', 'V'))\n",
      "(('located', 'V'), '_', ('in', 'P'))\n",
      "(('in', 'P'), '_', ('Guangzhou', '^'))\n"
     ]
    }
   ],
   "source": [
    "for i in nltk_dep_tree.triples():\n",
    "    print(i)"
   ]
  },
  {
   "cell_type": "markdown",
   "metadata": {},
   "source": [
    "## Processing sentences and returning Stanford data"
   ]
  },
  {
   "cell_type": "code",
   "execution_count": 19,
   "metadata": {},
   "outputs": [
    {
     "name": "stdout",
     "output_type": "stream",
     "text": [
      "[{'basicDependencies': [{'dep': '_', 'dependent': 1, 'dependentGloss': 'Guangdong', 'governor': 2, 'governorGloss': 'University'}, {'dep': '_', 'dependent': 2, 'dependentGloss': 'University', 'governor': 6, 'governorGloss': 'is'}, {'dep': '_', 'dependent': 3, 'dependentGloss': 'of', 'governor': 2, 'governorGloss': 'University'}, {'dep': '_', 'dependent': 4, 'dependentGloss': 'Foreign', 'governor': 5, 'governorGloss': 'Studies'}, {'dep': '_', 'dependent': 5, 'dependentGloss': 'Studies', 'governor': 3, 'governorGloss': 'of'}, {'dep': 'ROOT', 'dependent': 6, 'dependentGloss': 'is', 'governor': 0, 'governorGloss': 'ROOT'}, {'dep': '_', 'dependent': 7, 'dependentGloss': 'located', 'governor': 6, 'governorGloss': 'is'}, {'dep': '_', 'dependent': 8, 'dependentGloss': 'in', 'governor': 7, 'governorGloss': 'located'}, {'dep': '_', 'dependent': 9, 'dependentGloss': 'Guangzhou', 'governor': 8, 'governorGloss': 'in'}, {'dep': '_', 'dependent': 10, 'dependentGloss': '.', 'governor': -1, 'governorGloss': '$$NAN$$'}], 'index': 0, 'tokens': [{'index': 1, 'originalText': 'Guangdong', 'pos': '^', 'word': 'Guangdong'}, {'index': 2, 'originalText': 'University', 'pos': 'N', 'word': 'University'}, {'index': 3, 'originalText': 'of', 'pos': 'P', 'word': 'of'}, {'index': 4, 'originalText': 'Foreign', 'pos': '^', 'word': 'Foreign'}, {'index': 5, 'originalText': 'Studies', 'pos': 'N', 'word': 'Studies'}, {'index': 6, 'originalText': 'is', 'pos': 'V', 'word': 'is'}, {'index': 7, 'originalText': 'located', 'pos': 'V', 'word': 'located'}, {'index': 8, 'originalText': 'in', 'pos': 'P', 'word': 'in'}, {'index': 9, 'originalText': 'Guangzhou', 'pos': '^', 'word': 'Guangzhou'}, {'index': 10, 'originalText': '.', 'pos': ',', 'word': '.'}]}, {'basicDependencies': [{'dep': '_', 'dependent': 1, 'dependentGloss': 'Lucy', 'governor': 2, 'governorGloss': 'is'}, {'dep': 'ROOT', 'dependent': 2, 'dependentGloss': 'is', 'governor': 0, 'governorGloss': 'ROOT'}, {'dep': '_', 'dependent': 3, 'dependentGloss': 'in', 'governor': 2, 'governorGloss': 'is'}, {'dep': '_', 'dependent': 4, 'dependentGloss': 'the', 'governor': 5, 'governorGloss': 'sky'}, {'dep': '_', 'dependent': 5, 'dependentGloss': 'sky', 'governor': 3, 'governorGloss': 'in'}, {'dep': '_', 'dependent': 6, 'dependentGloss': 'with', 'governor': 5, 'governorGloss': 'sky'}, {'dep': '_', 'dependent': 7, 'dependentGloss': 'diamonds', 'governor': 6, 'governorGloss': 'with'}, {'dep': '_', 'dependent': 8, 'dependentGloss': '.', 'governor': -1, 'governorGloss': '$$NAN$$'}], 'index': 1, 'tokens': [{'index': 1, 'originalText': 'Lucy', 'pos': '^', 'word': 'Lucy'}, {'index': 2, 'originalText': 'is', 'pos': 'V', 'word': 'is'}, {'index': 3, 'originalText': 'in', 'pos': 'P', 'word': 'in'}, {'index': 4, 'originalText': 'the', 'pos': 'D', 'word': 'the'}, {'index': 5, 'originalText': 'sky', 'pos': 'N', 'word': 'sky'}, {'index': 6, 'originalText': 'with', 'pos': 'P', 'word': 'with'}, {'index': 7, 'originalText': 'diamonds', 'pos': 'N', 'word': 'diamonds'}, {'index': 8, 'originalText': '.', 'pos': ',', 'word': '.'}]}]\n"
     ]
    }
   ],
   "source": [
    "result = tweebo_api.parse_stanford(text_data)\n",
    "print(f'{result}')"
   ]
  },
  {
   "cell_type": "markdown",
   "metadata": {},
   "source": [
    "As a return we get a list of dicts. Each dict contains three keys:\n",
    "1. index -- the index of the processed sentence e.g. the first sentences processed this will be 0\n",
    "2. basicDependencies -- the dependency relations\n",
    "3. tokens -- the String value associated to the indexs that are wihtin basicDependencies"
   ]
  },
  {
   "cell_type": "code",
   "execution_count": 20,
   "metadata": {},
   "outputs": [
    {
     "data": {
      "text/plain": [
       "dict_keys(['basicDependencies', 'index', 'tokens'])"
      ]
     },
     "execution_count": 20,
     "metadata": {},
     "output_type": "execute_result"
    }
   ],
   "source": [
    "result[0].keys()"
   ]
  },
  {
   "cell_type": "code",
   "execution_count": 22,
   "metadata": {},
   "outputs": [
    {
     "data": {
      "text/plain": [
       "[{'dep': '_',\n",
       "  'dependent': 1,\n",
       "  'dependentGloss': 'Guangdong',\n",
       "  'governor': 2,\n",
       "  'governorGloss': 'University'},\n",
       " {'dep': '_',\n",
       "  'dependent': 2,\n",
       "  'dependentGloss': 'University',\n",
       "  'governor': 6,\n",
       "  'governorGloss': 'is'},\n",
       " {'dep': '_',\n",
       "  'dependent': 3,\n",
       "  'dependentGloss': 'of',\n",
       "  'governor': 2,\n",
       "  'governorGloss': 'University'},\n",
       " {'dep': '_',\n",
       "  'dependent': 4,\n",
       "  'dependentGloss': 'Foreign',\n",
       "  'governor': 5,\n",
       "  'governorGloss': 'Studies'},\n",
       " {'dep': '_',\n",
       "  'dependent': 5,\n",
       "  'dependentGloss': 'Studies',\n",
       "  'governor': 3,\n",
       "  'governorGloss': 'of'},\n",
       " {'dep': 'ROOT',\n",
       "  'dependent': 6,\n",
       "  'dependentGloss': 'is',\n",
       "  'governor': 0,\n",
       "  'governorGloss': 'ROOT'},\n",
       " {'dep': '_',\n",
       "  'dependent': 7,\n",
       "  'dependentGloss': 'located',\n",
       "  'governor': 6,\n",
       "  'governorGloss': 'is'},\n",
       " {'dep': '_',\n",
       "  'dependent': 8,\n",
       "  'dependentGloss': 'in',\n",
       "  'governor': 7,\n",
       "  'governorGloss': 'located'},\n",
       " {'dep': '_',\n",
       "  'dependent': 9,\n",
       "  'dependentGloss': 'Guangzhou',\n",
       "  'governor': 8,\n",
       "  'governorGloss': 'in'},\n",
       " {'dep': '_',\n",
       "  'dependent': 10,\n",
       "  'dependentGloss': '.',\n",
       "  'governor': -1,\n",
       "  'governorGloss': '$$NAN$$'}]"
      ]
     },
     "execution_count": 22,
     "metadata": {},
     "output_type": "execute_result"
    }
   ],
   "source": [
    "result[0]['basicDependencies']"
   ]
  },
  {
   "cell_type": "code",
   "execution_count": 23,
   "metadata": {},
   "outputs": [
    {
     "data": {
      "text/plain": [
       "[{'index': 1, 'originalText': 'Guangdong', 'pos': '^', 'word': 'Guangdong'},\n",
       " {'index': 2, 'originalText': 'University', 'pos': 'N', 'word': 'University'},\n",
       " {'index': 3, 'originalText': 'of', 'pos': 'P', 'word': 'of'},\n",
       " {'index': 4, 'originalText': 'Foreign', 'pos': '^', 'word': 'Foreign'},\n",
       " {'index': 5, 'originalText': 'Studies', 'pos': 'N', 'word': 'Studies'},\n",
       " {'index': 6, 'originalText': 'is', 'pos': 'V', 'word': 'is'},\n",
       " {'index': 7, 'originalText': 'located', 'pos': 'V', 'word': 'located'},\n",
       " {'index': 8, 'originalText': 'in', 'pos': 'P', 'word': 'in'},\n",
       " {'index': 9, 'originalText': 'Guangzhou', 'pos': '^', 'word': 'Guangzhou'},\n",
       " {'index': 10, 'originalText': '.', 'pos': ',', 'word': '.'}]"
      ]
     },
     "execution_count": 23,
     "metadata": {},
     "output_type": "execute_result"
    }
   ],
   "source": [
    "result[0]['tokens']"
   ]
  },
  {
   "cell_type": "markdown",
   "metadata": {},
   "source": [
    "## Possible exceptions\n",
    "\n",
    "We have already covered the exception of the server not running or running on the wrong hostname/port here we will show the exceptions that can arise when given wrong input:\n",
    "\n",
    "Just a String and not a list of String/s"
   ]
  },
  {
   "cell_type": "code",
   "execution_count": 24,
   "metadata": {},
   "outputs": [
    {
     "ename": "HTTPError",
     "evalue": "422 Client Error: UNPROCESSABLE ENTITY for url: http://0.0.0.0:8000/",
     "output_type": "error",
     "traceback": [
      "\u001b[0;31m---------------------------------------------------------------------------\u001b[0m",
      "\u001b[0;31mHTTPError\u001b[0m                                 Traceback (most recent call last)",
      "\u001b[0;32m<ipython-input-24-e5acc6cf75bb>\u001b[0m in \u001b[0;36m<module>\u001b[0;34m()\u001b[0m\n\u001b[0;32m----> 1\u001b[0;31m \u001b[0mtweebo_api\u001b[0m\u001b[0;34m.\u001b[0m\u001b[0mparse_stanford\u001b[0m\u001b[0;34m(\u001b[0m\u001b[0;34m'just text'\u001b[0m\u001b[0;34m)\u001b[0m\u001b[0;34m\u001b[0m\u001b[0m\n\u001b[0m",
      "\u001b[0;32m~/Envs/tweebo_parser_python_api/lib/python3.6/site-packages/tweebo_parser/api.py\u001b[0m in \u001b[0;36mparse_stanford\u001b[0;34m(self, texts)\u001b[0m\n\u001b[1;32m     91\u001b[0m             \u001b[0;32mraise\u001b[0m \u001b[0mServerError\u001b[0m\u001b[0;34m(\u001b[0m\u001b[0mserver_error\u001b[0m\u001b[0;34m,\u001b[0m \u001b[0mself\u001b[0m\u001b[0;34m.\u001b[0m\u001b[0mhostname\u001b[0m\u001b[0;34m,\u001b[0m \u001b[0mself\u001b[0m\u001b[0;34m.\u001b[0m\u001b[0mport\u001b[0m\u001b[0;34m)\u001b[0m\u001b[0;34m\u001b[0m\u001b[0m\n\u001b[1;32m     92\u001b[0m         \u001b[0;32mexcept\u001b[0m \u001b[0mrequests\u001b[0m\u001b[0;34m.\u001b[0m\u001b[0mexceptions\u001b[0m\u001b[0;34m.\u001b[0m\u001b[0mHTTPError\u001b[0m \u001b[0;32mas\u001b[0m \u001b[0mhttp_error\u001b[0m\u001b[0;34m:\u001b[0m\u001b[0;34m\u001b[0m\u001b[0m\n\u001b[0;32m---> 93\u001b[0;31m             \u001b[0;32mraise\u001b[0m \u001b[0mhttp_error\u001b[0m\u001b[0;34m\u001b[0m\u001b[0m\n\u001b[0m\u001b[1;32m     94\u001b[0m         \u001b[0;32melse\u001b[0m\u001b[0;34m:\u001b[0m\u001b[0;34m\u001b[0m\u001b[0m\n\u001b[1;32m     95\u001b[0m             \u001b[0;32mreturn\u001b[0m \u001b[0mresponse\u001b[0m\u001b[0;34m.\u001b[0m\u001b[0mjson\u001b[0m\u001b[0;34m(\u001b[0m\u001b[0;34m)\u001b[0m\u001b[0;34m\u001b[0m\u001b[0m\n",
      "\u001b[0;32m~/Envs/tweebo_parser_python_api/lib/python3.6/site-packages/tweebo_parser/api.py\u001b[0m in \u001b[0;36mparse_stanford\u001b[0;34m(self, texts)\u001b[0m\n\u001b[1;32m     85\u001b[0m                                      \u001b[0mjson\u001b[0m\u001b[0;34m=\u001b[0m\u001b[0mpost_data\u001b[0m\u001b[0;34m,\u001b[0m\u001b[0;34m\u001b[0m\u001b[0m\n\u001b[1;32m     86\u001b[0m                                      headers={'Connection': 'close'})\n\u001b[0;32m---> 87\u001b[0;31m             \u001b[0mresponse\u001b[0m\u001b[0;34m.\u001b[0m\u001b[0mraise_for_status\u001b[0m\u001b[0;34m(\u001b[0m\u001b[0;34m)\u001b[0m\u001b[0;34m\u001b[0m\u001b[0m\n\u001b[0m\u001b[1;32m     88\u001b[0m         except (requests.exceptions.ConnectionError,\n\u001b[1;32m     89\u001b[0m                 \u001b[0mrequests\u001b[0m\u001b[0;34m.\u001b[0m\u001b[0mexceptions\u001b[0m\u001b[0;34m.\u001b[0m\u001b[0mTimeout\u001b[0m\u001b[0;34m,\u001b[0m\u001b[0;34m\u001b[0m\u001b[0m\n",
      "\u001b[0;32m~/Envs/tweebo_parser_python_api/lib/python3.6/site-packages/requests/models.py\u001b[0m in \u001b[0;36mraise_for_status\u001b[0;34m(self)\u001b[0m\n\u001b[1;32m    933\u001b[0m \u001b[0;34m\u001b[0m\u001b[0m\n\u001b[1;32m    934\u001b[0m         \u001b[0;32mif\u001b[0m \u001b[0mhttp_error_msg\u001b[0m\u001b[0;34m:\u001b[0m\u001b[0;34m\u001b[0m\u001b[0m\n\u001b[0;32m--> 935\u001b[0;31m             \u001b[0;32mraise\u001b[0m \u001b[0mHTTPError\u001b[0m\u001b[0;34m(\u001b[0m\u001b[0mhttp_error_msg\u001b[0m\u001b[0;34m,\u001b[0m \u001b[0mresponse\u001b[0m\u001b[0;34m=\u001b[0m\u001b[0mself\u001b[0m\u001b[0;34m)\u001b[0m\u001b[0;34m\u001b[0m\u001b[0m\n\u001b[0m\u001b[1;32m    936\u001b[0m \u001b[0;34m\u001b[0m\u001b[0m\n\u001b[1;32m    937\u001b[0m     \u001b[0;32mdef\u001b[0m \u001b[0mclose\u001b[0m\u001b[0;34m(\u001b[0m\u001b[0mself\u001b[0m\u001b[0;34m)\u001b[0m\u001b[0;34m:\u001b[0m\u001b[0;34m\u001b[0m\u001b[0m\n",
      "\u001b[0;31mHTTPError\u001b[0m: 422 Client Error: UNPROCESSABLE ENTITY for url: http://0.0.0.0:8000/"
     ]
    }
   ],
   "source": [
    "tweebo_api.parse_stanford('just text')"
   ]
  },
  {
   "cell_type": "markdown",
   "metadata": {},
   "source": [
    "A list containing more than just Strings"
   ]
  },
  {
   "cell_type": "code",
   "execution_count": 25,
   "metadata": {},
   "outputs": [
    {
     "ename": "HTTPError",
     "evalue": "422 Client Error: UNPROCESSABLE ENTITY for url: http://0.0.0.0:8000/",
     "output_type": "error",
     "traceback": [
      "\u001b[0;31m---------------------------------------------------------------------------\u001b[0m",
      "\u001b[0;31mHTTPError\u001b[0m                                 Traceback (most recent call last)",
      "\u001b[0;32m<ipython-input-25-b92256ee75a4>\u001b[0m in \u001b[0;36m<module>\u001b[0;34m()\u001b[0m\n\u001b[0;32m----> 1\u001b[0;31m \u001b[0mtweebo_api\u001b[0m\u001b[0;34m.\u001b[0m\u001b[0mparse_stanford\u001b[0m\u001b[0;34m(\u001b[0m\u001b[0;34m[\u001b[0m\u001b[0;36m1\u001b[0m\u001b[0;34m,\u001b[0m \u001b[0;36m2\u001b[0m\u001b[0;34m,\u001b[0m \u001b[0;34m'hello'\u001b[0m\u001b[0;34m]\u001b[0m\u001b[0;34m)\u001b[0m\u001b[0;34m\u001b[0m\u001b[0m\n\u001b[0m",
      "\u001b[0;32m~/Envs/tweebo_parser_python_api/lib/python3.6/site-packages/tweebo_parser/api.py\u001b[0m in \u001b[0;36mparse_stanford\u001b[0;34m(self, texts)\u001b[0m\n\u001b[1;32m     91\u001b[0m             \u001b[0;32mraise\u001b[0m \u001b[0mServerError\u001b[0m\u001b[0;34m(\u001b[0m\u001b[0mserver_error\u001b[0m\u001b[0;34m,\u001b[0m \u001b[0mself\u001b[0m\u001b[0;34m.\u001b[0m\u001b[0mhostname\u001b[0m\u001b[0;34m,\u001b[0m \u001b[0mself\u001b[0m\u001b[0;34m.\u001b[0m\u001b[0mport\u001b[0m\u001b[0;34m)\u001b[0m\u001b[0;34m\u001b[0m\u001b[0m\n\u001b[1;32m     92\u001b[0m         \u001b[0;32mexcept\u001b[0m \u001b[0mrequests\u001b[0m\u001b[0;34m.\u001b[0m\u001b[0mexceptions\u001b[0m\u001b[0;34m.\u001b[0m\u001b[0mHTTPError\u001b[0m \u001b[0;32mas\u001b[0m \u001b[0mhttp_error\u001b[0m\u001b[0;34m:\u001b[0m\u001b[0;34m\u001b[0m\u001b[0m\n\u001b[0;32m---> 93\u001b[0;31m             \u001b[0;32mraise\u001b[0m \u001b[0mhttp_error\u001b[0m\u001b[0;34m\u001b[0m\u001b[0m\n\u001b[0m\u001b[1;32m     94\u001b[0m         \u001b[0;32melse\u001b[0m\u001b[0;34m:\u001b[0m\u001b[0;34m\u001b[0m\u001b[0m\n\u001b[1;32m     95\u001b[0m             \u001b[0;32mreturn\u001b[0m \u001b[0mresponse\u001b[0m\u001b[0;34m.\u001b[0m\u001b[0mjson\u001b[0m\u001b[0;34m(\u001b[0m\u001b[0;34m)\u001b[0m\u001b[0;34m\u001b[0m\u001b[0m\n",
      "\u001b[0;32m~/Envs/tweebo_parser_python_api/lib/python3.6/site-packages/tweebo_parser/api.py\u001b[0m in \u001b[0;36mparse_stanford\u001b[0;34m(self, texts)\u001b[0m\n\u001b[1;32m     85\u001b[0m                                      \u001b[0mjson\u001b[0m\u001b[0;34m=\u001b[0m\u001b[0mpost_data\u001b[0m\u001b[0;34m,\u001b[0m\u001b[0;34m\u001b[0m\u001b[0m\n\u001b[1;32m     86\u001b[0m                                      headers={'Connection': 'close'})\n\u001b[0;32m---> 87\u001b[0;31m             \u001b[0mresponse\u001b[0m\u001b[0;34m.\u001b[0m\u001b[0mraise_for_status\u001b[0m\u001b[0;34m(\u001b[0m\u001b[0;34m)\u001b[0m\u001b[0;34m\u001b[0m\u001b[0m\n\u001b[0m\u001b[1;32m     88\u001b[0m         except (requests.exceptions.ConnectionError,\n\u001b[1;32m     89\u001b[0m                 \u001b[0mrequests\u001b[0m\u001b[0;34m.\u001b[0m\u001b[0mexceptions\u001b[0m\u001b[0;34m.\u001b[0m\u001b[0mTimeout\u001b[0m\u001b[0;34m,\u001b[0m\u001b[0;34m\u001b[0m\u001b[0m\n",
      "\u001b[0;32m~/Envs/tweebo_parser_python_api/lib/python3.6/site-packages/requests/models.py\u001b[0m in \u001b[0;36mraise_for_status\u001b[0;34m(self)\u001b[0m\n\u001b[1;32m    933\u001b[0m \u001b[0;34m\u001b[0m\u001b[0m\n\u001b[1;32m    934\u001b[0m         \u001b[0;32mif\u001b[0m \u001b[0mhttp_error_msg\u001b[0m\u001b[0;34m:\u001b[0m\u001b[0;34m\u001b[0m\u001b[0m\n\u001b[0;32m--> 935\u001b[0;31m             \u001b[0;32mraise\u001b[0m \u001b[0mHTTPError\u001b[0m\u001b[0;34m(\u001b[0m\u001b[0mhttp_error_msg\u001b[0m\u001b[0;34m,\u001b[0m \u001b[0mresponse\u001b[0m\u001b[0;34m=\u001b[0m\u001b[0mself\u001b[0m\u001b[0;34m)\u001b[0m\u001b[0;34m\u001b[0m\u001b[0m\n\u001b[0m\u001b[1;32m    936\u001b[0m \u001b[0;34m\u001b[0m\u001b[0m\n\u001b[1;32m    937\u001b[0m     \u001b[0;32mdef\u001b[0m \u001b[0mclose\u001b[0m\u001b[0;34m(\u001b[0m\u001b[0mself\u001b[0m\u001b[0;34m)\u001b[0m\u001b[0;34m:\u001b[0m\u001b[0;34m\u001b[0m\u001b[0m\n",
      "\u001b[0;31mHTTPError\u001b[0m: 422 Client Error: UNPROCESSABLE ENTITY for url: http://0.0.0.0:8000/"
     ]
    }
   ],
   "source": [
    "tweebo_api.parse_stanford([1, 2, 'hello'])"
   ]
  },
  {
   "cell_type": "code",
   "execution_count": 26,
   "metadata": {},
   "outputs": [
    {
     "data": {
      "text/plain": [
       "[{'basicDependencies': [{'dep': '_',\n",
       "    'dependent': 1,\n",
       "    'dependentGloss': '1',\n",
       "    'governor': -1,\n",
       "    'governorGloss': '$$NAN$$'}],\n",
       "  'index': 0,\n",
       "  'tokens': [{'index': 1, 'originalText': '1', 'pos': '$', 'word': '1'}]},\n",
       " {'basicDependencies': [{'dep': '_',\n",
       "    'dependent': 1,\n",
       "    'dependentGloss': '2',\n",
       "    'governor': -1,\n",
       "    'governorGloss': '$$NAN$$'}],\n",
       "  'index': 1,\n",
       "  'tokens': [{'index': 1, 'originalText': '2', 'pos': '$', 'word': '2'}]},\n",
       " {'basicDependencies': [{'dep': 'ROOT',\n",
       "    'dependent': 1,\n",
       "    'dependentGloss': 'hello',\n",
       "    'governor': 0,\n",
       "    'governorGloss': 'ROOT'}],\n",
       "  'index': 2,\n",
       "  'tokens': [{'index': 1,\n",
       "    'originalText': 'hello',\n",
       "    'pos': '!',\n",
       "    'word': 'hello'}]}]"
      ]
     },
     "execution_count": 26,
     "metadata": {},
     "output_type": "execute_result"
    }
   ],
   "source": [
    "tweebo_api.parse_stanford(['1', '2', 'hello'])"
   ]
  },
  {
   "cell_type": "markdown",
   "metadata": {},
   "source": [
    "As we can see above now we have converted the Integers into Strings no errors occur."
   ]
  },
  {
   "cell_type": "code",
   "execution_count": null,
   "metadata": {},
   "outputs": [],
   "source": []
  }
 ],
 "metadata": {
  "kernelspec": {
   "display_name": "Python 3",
   "language": "python",
   "name": "python3"
  },
  "language_info": {
   "codemirror_mode": {
    "name": "ipython",
    "version": 3
   },
   "file_extension": ".py",
   "mimetype": "text/x-python",
   "name": "python",
   "nbconvert_exporter": "python",
   "pygments_lexer": "ipython3",
   "version": "3.6.0"
  }
 },
 "nbformat": 4,
 "nbformat_minor": 2
}
